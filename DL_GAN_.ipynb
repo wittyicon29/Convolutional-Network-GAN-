{
  "cells": [
    {
      "cell_type": "markdown",
      "metadata": {
        "id": "view-in-github",
        "colab_type": "text"
      },
      "source": [
        "<a href=\"https://colab.research.google.com/github/wittyicon29/Convolutional-Network-GAN-/blob/main/DL_GAN_.ipynb\" target=\"_parent\"><img src=\"https://colab.research.google.com/assets/colab-badge.svg\" alt=\"Open In Colab\"/></a>"
      ]
    },
    {
      "cell_type": "code",
      "execution_count": null,
      "metadata": {
        "id": "PyR6Egtnh1xY"
      },
      "outputs": [],
      "source": [
        "import torch\n",
        "import numpy as np \n",
        "import matplotlib.pyplot as plt"
      ]
    },
    {
      "cell_type": "markdown",
      "metadata": {
        "id": "ekrVOmr7jD5-"
      },
      "source": [
        "Configurations"
      ]
    },
    {
      "cell_type": "code",
      "execution_count": null,
      "metadata": {
        "id": "O_sJWqKejIQx"
      },
      "outputs": [],
      "source": [
        "device = 'cuda'\n",
        "batch_size = 128\n",
        "noise_dim = 64\n",
        "\n",
        "#optimizers\n",
        "learning_rate = 0.0002\n",
        "beta_1 = 0.5\n",
        "beta_2 = 0.99\n",
        "\n",
        "#training parameters \n",
        "epochs = 20"
      ]
    },
    {
      "cell_type": "markdown",
      "metadata": {
        "id": "lv5BXkcVkIE8"
      },
      "source": [
        "Datasets"
      ]
    },
    {
      "cell_type": "code",
      "execution_count": null,
      "metadata": {
        "id": "t34jv4fZkKKr"
      },
      "outputs": [],
      "source": [
        "from torchvision import datasets , transforms as t\n",
        "\n",
        "train_augs = t.Compose([\n",
        "                         t.RandomRotation((-30,+30)),\n",
        "                         t.ToTensor()\n",
        "])"
      ]
    },
    {
      "cell_type": "code",
      "execution_count": null,
      "metadata": {
        "id": "2yfx2EsDlZgt"
      },
      "outputs": [],
      "source": [
        "\n",
        "#loading datasets\n",
        "train_set = datasets.MNIST('MNIST/',download = True , train = True , transform = train_augs )"
      ]
    },
    {
      "cell_type": "code",
      "execution_count": null,
      "metadata": {
        "colab": {
          "base_uri": "https://localhost:8080/",
          "height": 300
        },
        "id": "t5OD_27Ul_Bq",
        "outputId": "dbbb6626-c0fd-4f79-b799-b857bc206ee3"
      },
      "outputs": [
        {
          "data": {
            "text/plain": [
              "<matplotlib.image.AxesImage at 0x7ff262e69e10>"
            ]
          },
          "execution_count": 34,
          "metadata": {},
          "output_type": "execute_result"
        },
        {
          "data": {
            "image/png": "[encoded data removed]",
            "text/plain": [
              "<Figure size 432x288 with 1 Axes>"
            ]
          },
          "metadata": {},
          "output_type": "display_data"
        }
      ],
      "source": [
        "#displaying data images\n",
        "image , label = train_set[7]\n",
        "plt.imshow(image.squeeze() , cmap = 'gray')"
      ]
    },
    {
      "cell_type": "code",
      "execution_count": null,
      "metadata": {
        "colab": {
          "base_uri": "https://localhost:8080/"
        },
        "id": "PCgxqKe3m4ca",
        "outputId": "1f47d3a3-864f-4486-8c01-d3b802b03204"
      },
      "outputs": [
        {
          "name": "stdout",
          "output_type": "stream",
          "text": [
            "Total images in training set:  60000\n"
          ]
        }
      ],
      "source": [
        "print(\"Total images in training set: \",len(train_set))"
      ]
    },
    {
      "cell_type": "code",
      "execution_count": null,
      "metadata": {
        "id": "WxM8IjHdnQxb"
      },
      "outputs": [],
      "source": [
        "from torch.utils.data import DataLoader\n",
        "from torchvision.utils import make_grid"
      ]
    },
    {
      "cell_type": "code",
      "execution_count": null,
      "metadata": {
        "colab": {
          "base_uri": "https://localhost:8080/"
        },
        "id": "KXb-ieNYnvl7",
        "outputId": "72e7b2db-6b6a-4740-a84f-29d69507ba56"
      },
      "outputs": [
        {
          "name": "stdout",
          "output_type": "stream",
          "text": [
            "Total batches :  469\n"
          ]
        }
      ],
      "source": [
        "train_loader = DataLoader(train_set , batch_size = batch_size , shuffle = True)\n",
        "\n",
        "#total batches \n",
        "print(\"Total batches : \", len(train_loader))"
      ]
    },
    {
      "cell_type": "code",
      "execution_count": null,
      "metadata": {
        "colab": {
          "base_uri": "https://localhost:8080/"
        },
        "id": "EKee36STqZg-",
        "outputId": "f8c6c1c0-0b52-442e-b8be-9ebdd5f603ae"
      },
      "outputs": [
        {
          "name": "stdout",
          "output_type": "stream",
          "text": [
            "torch.Size([128, 1, 28, 28])\n"
          ]
        }
      ],
      "source": [
        "dataiter = iter(train_loader)\n",
        "images,_ = dataiter.next()\n",
        "print(images.shape)"
      ]
    },
    {
      "cell_type": "code",
      "execution_count": null,
      "metadata": {
        "id": "UunB-BDyoYk7"
      },
      "outputs": [],
      "source": [
        "def show_tensor_images(tensor_img, num_img = 16 , size = (1,28,28)):\n",
        "    unflat_img = tensor_img.detach().cpu()\n",
        "    img_grid = make_grid(unflat_img[:num_img],nrow=4)\n",
        "    plt.imshow(img_grid.permute(1,2,0).squeeze()) \n",
        "    plt.show()"
      ]
    },
    {
      "cell_type": "code",
      "execution_count": null,
      "metadata": {
        "colab": {
          "base_uri": "https://localhost:8080/",
          "height": 264
        },
        "id": "p8YqeVabp7uD",
        "outputId": "2c33f265-f681-4c10-c109-fe1575cdbdcb"
      },
      "outputs": [
        {
          "data": {
            "image/png": "[encoded data removed]",
            "text/plain": [
              "<Figure size 432x288 with 1 Axes>"
            ]
          },
          "metadata": {},
          "output_type": "display_data"
        }
      ],
      "source": [
        "show_tensor_images(images, num_img =10)"
      ]
    },
    {
      "cell_type": "code",
      "execution_count": null,
      "metadata": {
        "id": "EUDTkGoAq63l"
      },
      "outputs": [],
      "source": [
        "from torch import nn\n",
        "from torchsummary import summary"
      ]
    },
    {
      "cell_type": "code",
      "execution_count": null,
      "metadata": {
        "id": "nKKmdGrCrcKK"
      },
      "outputs": [],
      "source": [
        "def get_disc_blocks(in_channels,out_channels , kernel_size, stride):\n",
        "    return nn.Sequential(\n",
        "           nn.Conv2d(in_channels,out_channels,kernel_size,stride),\n",
        "           nn.BatchNorm2d(out_channels),\n",
        "           nn.LeakyReLU(0.2)\n",
        ")"
      ]
    },
    {
      "cell_type": "code",
      "execution_count": null,
      "metadata": {
        "id": "881gagaQy7mX"
      },
      "outputs": [],
      "source": [
        "class Discriminator(nn.Module):\n",
        "       \n",
        "  def __init__(self):\n",
        "    super(Discriminator,self).__init__()\n",
        "\n",
        "    self.block1 = get_disc_blocks(1,16,(3,3),2)\n",
        "    self.block2 = get_disc_blocks(16,32,(5,5),2)\n",
        "    self.block3 = get_disc_blocks(32,64,(5,5),2)\n",
        "\n",
        "    self.Flatten = nn.Flatten()\n",
        "    self.Linear = nn.Linear(in_features = 64, out_features = 1)\n",
        "\n",
        "  def forward(self,images):\n",
        "         \n",
        "    x1 = self.block1(images)\n",
        "    x2 = self.block2(x1)\n",
        "    x3 = self.block3(x2)\n",
        "\n",
        "    x4 = self.Flatten(x3)\n",
        "    x5 = self.Linear(x4)\n",
        "\n",
        "    return x5"
      ]
    },
    {
      "cell_type": "code",
      "execution_count": null,
      "metadata": {
        "colab": {
          "base_uri": "https://localhost:8080/"
        },
        "id": "IEVTNmfk3o9C",
        "outputId": "b5c1c330-3073-42e0-9a3b-5d56e86f361b"
      },
      "outputs": [
        {
          "name": "stdout",
          "output_type": "stream",
          "text": [
            "----------------------------------------------------------------\n",
            "        Layer (type)               Output Shape         Param #\n",
            "================================================================\n",
            "            Conv2d-1           [-1, 16, 13, 13]             160\n",
            "       BatchNorm2d-2           [-1, 16, 13, 13]              32\n",
            "         LeakyReLU-3           [-1, 16, 13, 13]               0\n",
            "            Conv2d-4             [-1, 32, 5, 5]          12,832\n",
            "       BatchNorm2d-5             [-1, 32, 5, 5]              64\n",
            "         LeakyReLU-6             [-1, 32, 5, 5]               0\n",
            "            Conv2d-7             [-1, 64, 1, 1]          51,264\n",
            "       BatchNorm2d-8             [-1, 64, 1, 1]             128\n",
            "         LeakyReLU-9             [-1, 64, 1, 1]               0\n",
            "          Flatten-10                   [-1, 64]               0\n",
            "           Linear-11                    [-1, 1]              65\n",
            "================================================================\n",
            "Total params: 64,545\n",
            "Trainable params: 64,545\n",
            "Non-trainable params: 0\n",
            "----------------------------------------------------------------\n",
            "Input size (MB): 0.00\n",
            "Forward/backward pass size (MB): 0.08\n",
            "Params size (MB): 0.25\n",
            "Estimated Total Size (MB): 0.33\n",
            "----------------------------------------------------------------\n"
          ]
        }
      ],
      "source": [
        "D = Discriminator()\n",
        "D.to(device)\n",
        "\n",
        "summary(D, input_size = (1,28,28))"
      ]
    },
    {
      "cell_type": "markdown",
      "metadata": {
        "id": "6-b_KrDp6Jkm"
      },
      "source": [
        "Generator"
      ]
    },
    {
      "cell_type": "code",
      "execution_count": null,
      "metadata": {
        "id": "qGfzcJvM6M3K"
      },
      "outputs": [],
      "source": [
        "def get_gen_block(in_channels , out_channels, kernel_size, stride , final_block = False):\n",
        "    if final_block == True :\n",
        "       return nn.Sequential(\n",
        "                 nn.ConvTranspose2d(in_channels , out_channels , kernel_size , stride),\n",
        "                 nn.Tanh()\n",
        ")\n",
        "    return nn.Sequential(\n",
        "                nn.ConvTranspose2d(in_channels , out_channels , kernel_size , stride),\n",
        "                nn.BatchNorm2d(out_channels),\n",
        "                nn.ReLU()\n",
        ")"
      ]
    },
    {
      "cell_type": "code",
      "execution_count": null,
      "metadata": {
        "id": "or4opJbE7eJh"
      },
      "outputs": [],
      "source": [
        "class Generator(nn.Module):\n",
        "      def __init__(self,noise_dim):\n",
        "        super(Generator , self).__init__()\n",
        " \n",
        "        self.noise_dim = noise_dim\n",
        "        self.block_1 = get_gen_block(noise_dim, 256 , (3,3) , 2)\n",
        "        self.block_2 = get_gen_block(256, 128 , (4,4) , 1)\n",
        "        self.block_3 = get_gen_block(128, 64 , (3,3), 2)\n",
        "\n",
        "        self.block_4 = get_gen_block(64, 1 , (4,4) , 2, final_block = True)\n",
        "     \n",
        "      def forward(self , r_noise_vec):\n",
        "         \n",
        "        x = r_noise_vec.view(-1, self.noise_dim , 1 , 1)\n",
        "\n",
        "        x1 = self.block_1(x)\n",
        "        x2 = self.block_2(x1)\n",
        "        x3 = self.block_3(x2)\n",
        "        x4 = self.block_4(x3)\n",
        "\n",
        "        return x4"
      ]
    },
    {
      "cell_type": "code",
      "execution_count": null,
      "metadata": {
        "colab": {
          "base_uri": "https://localhost:8080/"
        },
        "id": "yHRfbYJn_mdx",
        "outputId": "41949f0c-a87d-48de-9cd6-16ebfbe85ba4"
      },
      "outputs": [
        {
          "name": "stdout",
          "output_type": "stream",
          "text": [
            "----------------------------------------------------------------\n",
            "        Layer (type)               Output Shape         Param #\n",
            "================================================================\n",
            "   ConvTranspose2d-1            [-1, 256, 3, 3]         147,712\n",
            "       BatchNorm2d-2            [-1, 256, 3, 3]             512\n",
            "              ReLU-3            [-1, 256, 3, 3]               0\n",
            "   ConvTranspose2d-4            [-1, 128, 6, 6]         524,416\n",
            "       BatchNorm2d-5            [-1, 128, 6, 6]             256\n",
            "              ReLU-6            [-1, 128, 6, 6]               0\n",
            "   ConvTranspose2d-7           [-1, 64, 13, 13]          73,792\n",
            "       BatchNorm2d-8           [-1, 64, 13, 13]             128\n",
            "              ReLU-9           [-1, 64, 13, 13]               0\n",
            "  ConvTranspose2d-10            [-1, 1, 28, 28]           1,025\n",
            "             Tanh-11            [-1, 1, 28, 28]               0\n",
            "================================================================\n",
            "Total params: 747,841\n",
            "Trainable params: 747,841\n",
            "Non-trainable params: 0\n",
            "----------------------------------------------------------------\n",
            "Input size (MB): 0.00\n",
            "Forward/backward pass size (MB): 0.42\n",
            "Params size (MB): 2.85\n",
            "Estimated Total Size (MB): 3.27\n",
            "----------------------------------------------------------------\n"
          ]
        }
      ],
      "source": [
        "G = Generator(noise_dim)\n",
        "G.to(device)\n",
        "\n",
        "summary(G, input_size = (1, noise_dim))"
      ]
    },
    {
      "cell_type": "code",
      "execution_count": null,
      "metadata": {
        "id": "a0mquG3cCR-l"
      },
      "outputs": [],
      "source": [
        "def weights__init(m):\n",
        "  if isinstance(m, nn.Conv2d) or isinstance(m, nn.ConvTranspose2d):\n",
        "     nn.init.normal_(m.weight, 0.0, 0.02)\n",
        "  if isinstance(m , nn.BatchNorm2d):\n",
        "     nn.init.normal_(m.weight , 0.0,0.02)\n",
        "     nn.init.constant_(m.bias , 0)"
      ]
    },
    {
      "cell_type": "code",
      "execution_count": null,
      "metadata": {
        "id": "wRwyGKaPDXGw"
      },
      "outputs": [],
      "source": [
        "D = D.apply(weights__init)\n",
        "G = G.apply(weights__init)"
      ]
    },
    {
      "cell_type": "code",
      "execution_count": null,
      "metadata": {
        "id": "Z3C5k9puEMz9"
      },
      "outputs": [],
      "source": [
        "\n",
        "def real_loss(disc_pred):\n",
        "    criterion = nn.BCEWithLogitsLoss()\n",
        "    ground_truth = torch.ones_like(disc_pred)\n",
        "    loss = criterion(disc_pred , ground_truth)\n",
        "    return loss\n",
        "\n",
        "def fake_loss(disc_pred):\n",
        "    criterion = nn.BCEWithLogitsLoss()\n",
        "    ground_truth = torch.zeros_like(disc_pred)\n",
        "    loss = criterion(disc_pred , ground_truth)\n",
        "    return loss"
      ]
    },
    {
      "cell_type": "code",
      "execution_count": null,
      "metadata": {
        "id": "eio4CUvREvb3"
      },
      "outputs": [],
      "source": [
        "D_opt = torch.optim.Adam(D.parameters(), lr = learning_rate , betas = (beta_1, beta_2))\n",
        "G_opt = torch.optim.Adam(G.parameters(), lr = learning_rate , betas = (beta_1 ,beta_2))"
      ]
    },
    {
      "cell_type": "code",
      "execution_count": null,
      "metadata": {
        "id": "nkyk72hXrTUP"
      },
      "outputs": [],
      "source": [
        "from tqdm import tqdm"
      ]
    },
    {
      "cell_type": "code",
      "execution_count": null,
      "metadata": {
        "colab": {
          "background_save": true,
          "base_uri": "https://localhost:8080/",
          "height": 1000
        },
        "id": "J1w7TjknGIrr",
        "outputId": "2f31e413-433a-4f17-a995-f260b35d619d"
      },
      "outputs": [],
      "source": [
        "\n",
        "\n",
        "for i in range(epochs):\n",
        "    \n",
        "    total_d_loss = 0.0\n",
        "    total_g_loss = 0.0\n",
        "\n",
        "    for real_img, _ in tqdm(train_loader):\n",
        "\n",
        "        real_img = real_img.to(device)\n",
        "        noise = torch.randn(batch_size , noise_dim, device = device)\n",
        "\n",
        "        D_opt.zero_grad()\n",
        "        \n",
        "        fake_img = G(noise)\n",
        "        D_pred = D(fake_img)\n",
        "        D_fake_loss = fake_loss(D_pred)\n",
        "\n",
        "        D_pred = D(real_img)\n",
        "        D_real_loss = real_loss(D_pred)\n",
        "\n",
        "        D_loss = (D_fake_loss + D_real_loss)/2\n",
        "        total_d_loss += D_loss.item()\n",
        "\n",
        "        D_loss.backward()\n",
        "        D_opt.step()\n",
        "\n",
        "\n",
        "        \n",
        "        G_opt.zero_grad()\n",
        "        noise = torch.randn(batch_size ,noise_dim, device = device)\n",
        "\n",
        "        fake_img = G(noise)\n",
        "        D_pred = D(fake_img)\n",
        "        G_loss = real_loss(D_pred)\n",
        "\n",
        "        total_g_loss += G_loss.item()\n",
        "\n",
        "        G_loss.backward()\n",
        "        G_opt.step()\n",
        "\n",
        "        avg_d_loss = total_d_loss/len(train_loader)\n",
        "        avg_g_loss = total_g_loss/len(train_loader)\n",
        "\n",
        "        print(\"Epoch : {} | D_loss : {} | G_loss : {} \".format(i+1, avg_d_loss , avg_g_loss))\n",
        "         \n",
        "        show_tensor_images(fake_img)"
      ]
    }
  ],
  "metadata": {
    "accelerator": "GPU",
    "colab": {
      "collapsed_sections": [],
      "provenance": [],
      "authorship_tag": "ABX9TyOGz4qmcVsmBElW8OO5s20+",
      "include_colab_link": true
    },
    "gpuClass": "standard",
    "kernelspec": {
      "display_name": "Python 3",
      "name": "python3"
    },
    "language_info": {
      "name": "python"
    }
  },
  "nbformat": 4,
  "nbformat_minor": 0
}